{
 "cells": [
  {
   "cell_type": "markdown",
   "metadata": {},
   "source": [
    "# Configuration & Library"
   ]
  },
  {
   "cell_type": "code",
   "execution_count": 8,
   "metadata": {},
   "outputs": [],
   "source": [
    "import ssl\n",
    "from pyngrok import ngrok, conf, installer\n",
    "import io\n",
    "from PIL import Image\n",
    "from flask import Flask, request\n",
    "import nest_asyncio\n",
    "from pyngrok import ngrok\n",
    "import torch\n",
    "from ultralytics import YOLO\n",
    "\n",
    "ssl._create_default_https_context = ssl._create_unverified_context\n",
    "pyngrok_config = conf.get_default()"
   ]
  },
  {
   "cell_type": "markdown",
   "metadata": {},
   "source": [
    "# API Setup\n"
   ]
  },
  {
   "cell_type": "code",
   "execution_count": 1,
   "metadata": {},
   "outputs": [
    {
     "ename": "ModuleNotFoundError",
     "evalue": "No module named 'PIL'",
     "output_type": "error",
     "traceback": [
      "\u001b[1;31m---------------------------------------------------------------------------\u001b[0m",
      "\u001b[1;31mModuleNotFoundError\u001b[0m                       Traceback (most recent call last)",
      "Cell \u001b[1;32mIn[1], line 2\u001b[0m\n\u001b[0;32m      1\u001b[0m \u001b[38;5;28;01mimport\u001b[39;00m \u001b[38;5;21;01mio\u001b[39;00m\n\u001b[1;32m----> 2\u001b[0m \u001b[38;5;28;01mfrom\u001b[39;00m \u001b[38;5;21;01mPIL\u001b[39;00m \u001b[38;5;28;01mimport\u001b[39;00m Image\n\u001b[0;32m      3\u001b[0m \u001b[38;5;28;01mfrom\u001b[39;00m \u001b[38;5;21;01mflask\u001b[39;00m \u001b[38;5;28;01mimport\u001b[39;00m Flask, request\n\u001b[0;32m      4\u001b[0m \u001b[38;5;28;01mimport\u001b[39;00m \u001b[38;5;21;01mnest_asyncio\u001b[39;00m\n",
      "\u001b[1;31mModuleNotFoundError\u001b[0m: No module named 'PIL'"
     ]
    }
   ],
   "source": [
    "\n",
    "app = Flask(__name__)\n",
    "model = YOLO('best.pt')\n",
    "\n",
    "\n",
    "@app.route(\"/objectdetection/\", methods=[\"POST\"])\n",
    "def predict():\n",
    "    if not request.method == \"POST\":\n",
    "        return\n",
    "\n",
    "    if request.files.get(\"image\"):\n",
    "        image_file = request.files[\"image\"]\n",
    "        image_bytes = image_file.read()\n",
    "        img = Image.open(io.BytesIO(image_bytes))\n",
    "        # img = img.reshape(640,640)\n",
    "        results = model(img)\n",
    "        class_indices = results[0].boxes.cls\n",
    "        indices = class_indices.to(dtype=torch.int).tolist()\n",
    "        names = ['car', 'house', 'road', 'swimming pool', 'tree', 'yard']\n",
    "        mapped_names = [names[idx] for idx in indices]\n",
    "        results_json = {\n",
    "            \"boxes\": results[0].boxes.xyxy.tolist(),\n",
    "            \"classes\": mapped_names,\n",
    "            \"confidence\":results[0].boxes.conf.tolist()\n",
    "        }\n",
    "        return {\"result\": results_json}\n",
    "\n",
    "\n",
    "ngrok_tunnel = ngrok.connect(8000)\n",
    "print('Public URL:', ngrok_tunnel.public_url)\n",
    "nest_asyncio.apply()\n",
    "app.run(host=\"0.0.0.0\", port=8000)"
   ]
  },
  {
   "cell_type": "code",
   "execution_count": null,
   "metadata": {},
   "outputs": [],
   "source": [
    "ngrok_tunnel = ngrok.connect(8000)\n"
   ]
  }
 ],
 "metadata": {
  "kernelspec": {
   "display_name": "yolo",
   "language": "python",
   "name": "python3"
  },
  "language_info": {
   "codemirror_mode": {
    "name": "ipython",
    "version": 3
   },
   "file_extension": ".py",
   "mimetype": "text/x-python",
   "name": "python",
   "nbconvert_exporter": "python",
   "pygments_lexer": "ipython3",
   "version": "3.12.3"
  }
 },
 "nbformat": 4,
 "nbformat_minor": 2
}
